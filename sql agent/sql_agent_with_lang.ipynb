{
 "cells": [
  {
   "cell_type": "code",
   "execution_count": 96,
   "id": "34d84530",
   "metadata": {},
   "outputs": [],
   "source": [
    "import sqlite3\n",
    "from typing import Annotated, Literal\n",
    "from langchain_core.messages import AIMessage\n",
    "from langchain_core.pydantic_v1 import BaseModel, Field\n",
    "from typing_extensions import TypedDict\n",
    "from langgraph.graph import END, StateGraph, START\n",
    "from langgraph.graph.message import AnyMessage, add_messages\n",
    "from typing import Any\n",
    "from langchain_core.messages import ToolMessage\n",
    "from langchain_core.runnables import RunnableLambda, RunnableWithFallbacks\n",
    "from langgraph.prebuilt import ToolNode\n",
    "from langchain_community.utilities import SQLDatabase"
   ]
  },
  {
   "cell_type": "code",
   "execution_count": 97,
   "id": "f32d21b6",
   "metadata": {},
   "outputs": [],
   "source": [
    "connection= sqlite3.connect(\"mydb.db\")"
   ]
  },
  {
   "cell_type": "code",
   "execution_count": 98,
   "id": "9578b41c",
   "metadata": {},
   "outputs": [],
   "source": [
    "table_creation_query = \"\"\"\n",
    "CREATE TABLE IF NOT EXISTS employees (\n",
    "    id INTEGER PRIMARY KEY AUTOINCREMENT,\n",
    "    name TEXT NOT NULL,\n",
    "    age INTEGER NOT NULL,\n",
    "    department TEXT NOT NULL,\n",
    "    salary REAL NOT NULL\n",
    ");\n",
    "\"\"\""
   ]
  },
  {
   "cell_type": "code",
   "execution_count": 99,
   "id": "955e25aa",
   "metadata": {},
   "outputs": [],
   "source": [
    "table_creation_query2 = \"\"\"\n",
    "CREATE TABLE IF NOT EXISTS customers (\n",
    "    id INTEGER PRIMARY KEY AUTOINCREMENT,\n",
    "    name TEXT NOT NULL,\n",
    "    email TEXT NOT NULL,\n",
    "    phone TEXT NOT NULL,\n",
    "    address TEXT NOT NULL\n",
    ");\n",
    "\"\"\""
   ]
  },
  {
   "cell_type": "code",
   "execution_count": 100,
   "id": "76bd2886",
   "metadata": {},
   "outputs": [],
   "source": [
    "table_creation_query3=\"\"\"\n",
    "CREATE TABLE IF NOT EXISTS orders (\n",
    "    id INTEGER PRIMARY KEY AUTOINCREMENT,\n",
    "    customer_id INTEGER NOT NULL,\n",
    "    order_date TEXT NOT NULL,\n",
    "    total_amount REAL NOT NULL,\n",
    "    FOREIGN KEY (customer_id) REFERENCES customers (id)\n",
    ");\n",
    "\"\"\""
   ]
  },
  {
   "cell_type": "code",
   "execution_count": 101,
   "id": "f9bc9d56",
   "metadata": {},
   "outputs": [],
   "source": [
    "cursor=connection.cursor()"
   ]
  },
  {
   "cell_type": "code",
   "execution_count": 102,
   "id": "ef13d762",
   "metadata": {},
   "outputs": [
    {
     "data": {
      "text/plain": [
       "<sqlite3.Cursor at 0x14acc46f440>"
      ]
     },
     "execution_count": 102,
     "metadata": {},
     "output_type": "execute_result"
    }
   ],
   "source": [
    "cursor.execute(table_creation_query)"
   ]
  },
  {
   "cell_type": "code",
   "execution_count": 103,
   "id": "e1571c4e",
   "metadata": {},
   "outputs": [
    {
     "data": {
      "text/plain": [
       "<sqlite3.Cursor at 0x14acc46f440>"
      ]
     },
     "execution_count": 103,
     "metadata": {},
     "output_type": "execute_result"
    }
   ],
   "source": [
    "cursor.execute(table_creation_query2)\n",
    "cursor.execute(table_creation_query3)"
   ]
  },
  {
   "cell_type": "code",
   "execution_count": 104,
   "id": "2dbbf34b",
   "metadata": {},
   "outputs": [],
   "source": [
    "insert_query = \"\"\"\n",
    "INSERT INTO employees (name, age, department, salary)\n",
    "VALUES (?, ?, ?, ?);\n",
    "\"\"\"\n",
    "insert_query2 = \"\"\"\n",
    "INSERT INTO customers (name, email, phone, address)\n",
    "VALUES (?, ?, ?, ?);\n",
    "\"\"\"\n",
    "insert_query3 = \"\"\"\n",
    "INSERT INTO orders (customer_id, order_date, total_amount)\n",
    "VALUES (?, ?, ?);\n",
    "\"\"\"\n"
   ]
  },
  {
   "cell_type": "code",
   "execution_count": 105,
   "id": "fb38a9c8",
   "metadata": {},
   "outputs": [],
   "source": [
    "employees_data = [\n",
    "    (\"John Doe\", 30, \"HR\", 50000),\n",
    "    (\"Jane Smith\", 28, \"IT\", 60000),\n",
    "    (\"Alice Johnson\", 35, \"Finance\", 70000),\n",
    "    (\"Bob Brown\", 40, \"Marketing\", 55000)\n",
    "]\n",
    "\n",
    "customers_data = [\n",
    "    (\"Charlie Black\", \"charlie@example.com\", \"555-1234\", \"123 Main St\"),\n",
    "    (\"Diana White\", \"diana@example.com\", \"555-5678\", \"456 Oak Ave\"),\n",
    "    (\"Edward Green\", \"edward@example.com\", \"555-9012\", \"789 Pine Rd\"),\n",
    "    (\"Fiona Gray\", \"fiona@example.com\", \"555-3456\", \"101 Elm Blvd\")\n",
    "]\n",
    "\n",
    "orders_data = [\n",
    "    (1, \"2023-05-15\", 299.99),\n",
    "    (2, \"2023-05-16\", 149.50),\n",
    "    (3, \"2023-05-17\", 499.99),\n",
    "    (4, \"2023-05-18\", 75.25)\n",
    "]\n",
    "\n",
    "# Insert data into tables\n",
    "cursor.executemany(insert_query, employees_data)\n",
    "cursor.executemany(insert_query2, customers_data)\n",
    "cursor.executemany(insert_query3, orders_data)\n",
    "\n",
    "# Commit the changes\n",
    "connection.commit()"
   ]
  },
  {
   "cell_type": "code",
   "execution_count": 106,
   "id": "d5952148",
   "metadata": {},
   "outputs": [
    {
     "name": "stdout",
     "output_type": "stream",
     "text": [
      "(1, 'John Doe', 30, 'HR', 50000.0)\n",
      "(2, 'Jane Smith', 28, 'IT', 60000.0)\n",
      "(3, 'Alice Johnson', 35, 'Finance', 70000.0)\n",
      "(4, 'Bob Brown', 40, 'Marketing', 55000.0)\n",
      "(5, 'John Doe', 30, 'HR', 50000.0)\n",
      "(6, 'Jane Smith', 28, 'IT', 60000.0)\n",
      "(7, 'Alice Johnson', 35, 'Finance', 70000.0)\n",
      "(8, 'Bob Brown', 40, 'Marketing', 55000.0)\n"
     ]
    }
   ],
   "source": [
    "cursor.execute(\"select * from employees\")\n",
    "for row in cursor.fetchall():\n",
    "    print(row)"
   ]
  },
  {
   "cell_type": "code",
   "execution_count": 107,
   "id": "f77d8c6d",
   "metadata": {},
   "outputs": [],
   "source": [
    "from langchain_community.utilities import SQLDatabase"
   ]
  },
  {
   "cell_type": "code",
   "execution_count": 108,
   "id": "85043413",
   "metadata": {},
   "outputs": [],
   "source": [
    "db=SQLDatabase.from_uri(\"sqlite:///mydb.db\")"
   ]
  },
  {
   "cell_type": "code",
   "execution_count": 109,
   "id": "317f20ff",
   "metadata": {},
   "outputs": [
    {
     "data": {
      "text/plain": [
       "'sqlite'"
      ]
     },
     "execution_count": 109,
     "metadata": {},
     "output_type": "execute_result"
    }
   ],
   "source": [
    "db.dialect"
   ]
  },
  {
   "cell_type": "code",
   "execution_count": 110,
   "id": "673a2f73",
   "metadata": {},
   "outputs": [
    {
     "data": {
      "text/plain": [
       "['customers', 'employees', 'orders']"
      ]
     },
     "execution_count": 110,
     "metadata": {},
     "output_type": "execute_result"
    }
   ],
   "source": [
    "db.get_usable_table_names()"
   ]
  },
  {
   "cell_type": "code",
   "execution_count": 111,
   "id": "1f68130f",
   "metadata": {},
   "outputs": [],
   "source": [
    "import os\n",
    "from dotenv import load_dotenv\n",
    "from langchain_groq import ChatGroq\n",
    "\n",
    "# Load environment variables from .env file\n",
    "load_dotenv()\n",
    "\n",
    "# Now the key is available to the Groq client\n",
    "llm = ChatGroq(model=\"llama3-70b-8192\")\n"
   ]
  },
  {
   "cell_type": "code",
   "execution_count": 112,
   "id": "276f428c",
   "metadata": {},
   "outputs": [],
   "source": [
    "from langchain_groq import ChatGroq\n",
    "llm=ChatGroq(model=\"llama3-70b-8192\")"
   ]
  },
  {
   "cell_type": "code",
   "execution_count": 113,
   "id": "08254e63",
   "metadata": {},
   "outputs": [
    {
     "data": {
      "text/plain": [
       "AIMessage(content=\"Hello! It's nice to meet you. Is there something I can help you with, or would you like to chat?\", additional_kwargs={}, response_metadata={'token_usage': {'completion_tokens': 26, 'prompt_tokens': 11, 'total_tokens': 37, 'completion_time': 0.074285714, 'prompt_time': 0.004951703, 'queue_time': 0.054756455999999995, 'total_time': 0.079237417}, 'model_name': 'llama3-70b-8192', 'system_fingerprint': 'fp_dd4ae1c591', 'finish_reason': 'stop', 'logprobs': None}, id='run--7ff5a2b6-d4da-4e47-8ed6-4d50ad51d484-0', usage_metadata={'input_tokens': 11, 'output_tokens': 26, 'total_tokens': 37})"
      ]
     },
     "execution_count": 113,
     "metadata": {},
     "output_type": "execute_result"
    }
   ],
   "source": [
    "llm.invoke(\"Hello\")"
   ]
  },
  {
   "cell_type": "code",
   "execution_count": 114,
   "id": "0bf6bcfe",
   "metadata": {},
   "outputs": [],
   "source": [
    "from langchain_community.agent_toolkits import SQLDatabaseToolkit"
   ]
  },
  {
   "cell_type": "code",
   "execution_count": 115,
   "id": "a39237ec",
   "metadata": {},
   "outputs": [],
   "source": [
    "toolkit=SQLDatabaseToolkit(db=db, llm=llm)\n"
   ]
  },
  {
   "cell_type": "code",
   "execution_count": 116,
   "id": "a462bfb0",
   "metadata": {},
   "outputs": [
    {
     "name": "stdout",
     "output_type": "stream",
     "text": [
      "sql_db_query\n",
      "sql_db_schema\n",
      "sql_db_list_tables\n",
      "sql_db_query_checker\n"
     ]
    }
   ],
   "source": [
    "tools=toolkit.get_tools()\n",
    "for tool in tools:\n",
    "    print(tool.name)\n",
    "    "
   ]
  },
  {
   "cell_type": "code",
   "execution_count": 117,
   "id": "23c97405",
   "metadata": {},
   "outputs": [],
   "source": [
    "list_tables_tool=next((tool for tool in tools if tool.name==\"sql_db_list_tables\"), None)\n"
   ]
  },
  {
   "cell_type": "code",
   "execution_count": 118,
   "id": "dc2f17ce",
   "metadata": {},
   "outputs": [
    {
     "data": {
      "text/plain": [
       "ListSQLDatabaseTool(db=<langchain_community.utilities.sql_database.SQLDatabase object at 0x0000014ACBFC27E0>)"
      ]
     },
     "execution_count": 118,
     "metadata": {},
     "output_type": "execute_result"
    }
   ],
   "source": [
    "list_tables_tool"
   ]
  },
  {
   "cell_type": "code",
   "execution_count": 119,
   "id": "ffd8d1ce",
   "metadata": {},
   "outputs": [],
   "source": [
    "get_schema_tool=next((tool for tool in tools if tool.name==\"sql_db_schema\"), None)\n",
    "\n",
    "llm_to_get_schema=llm.bind_tools([get_schema_tool])\n"
   ]
  },
  {
   "cell_type": "code",
   "execution_count": 120,
   "id": "3e57df44",
   "metadata": {},
   "outputs": [],
   "source": [
    "from langchain_core.tools import tool\n",
    "@tool\n",
    "def query_to_database(query:str) -> str:\n",
    "    \"\"\"\n",
    "    This tool executes a SQL query and returns the result.\n",
    "    \"\"\"\n",
    "    result=db.run_no_throw(query)\n",
    "    if not result:\n",
    "        return \"error:query failed.\"\n",
    "    return result"
   ]
  },
  {
   "cell_type": "code",
   "execution_count": 121,
   "id": "7dfdea5f",
   "metadata": {},
   "outputs": [
    {
     "data": {
      "text/plain": [
       "\"[(1, 'John Doe', 30, 'HR', 50000.0), (2, 'Jane Smith', 28, 'IT', 60000.0), (3, 'Alice Johnson', 35, 'Finance', 70000.0), (4, 'Bob Brown', 40, 'Marketing', 55000.0), (5, 'John Doe', 30, 'HR', 50000.0), (6, 'Jane Smith', 28, 'IT', 60000.0), (7, 'Alice Johnson', 35, 'Finance', 70000.0), (8, 'Bob Brown', 40, 'Marketing', 55000.0)]\""
      ]
     },
     "execution_count": 121,
     "metadata": {},
     "output_type": "execute_result"
    }
   ],
   "source": [
    "query_to_database.invoke(\"select* from employees;\")"
   ]
  },
  {
   "cell_type": "code",
   "execution_count": 122,
   "id": "d4974be7",
   "metadata": {},
   "outputs": [],
   "source": [
    "llm_with_tools=llm.bind_tools([query_to_database])"
   ]
  },
  {
   "cell_type": "code",
   "execution_count": 123,
   "id": "b1a4a528",
   "metadata": {},
   "outputs": [],
   "source": [
    "class State(TypedDict):\n",
    "    messages: Annotated[list[AnyMessage], add_messages]"
   ]
  },
  {
   "cell_type": "code",
   "execution_count": 124,
   "id": "77ebe76f",
   "metadata": {},
   "outputs": [],
   "source": [
    "def handle_tool_error(state:State):\n",
    "    error = state.get(\"error\") \n",
    "    tool_calls = state[\"messages\"][-1].tool_calls\n",
    "    return { \"messages\": [ ToolMessage(content=f\"Error: {repr(error)}\\n please fix your mistakes.\",tool_call_id=tc[\"id\"],) for tc in tool_calls ] }\n",
    "\n",
    "def create_node_from_tool_with_fallback(tools:list)-> RunnableWithFallbacks[Any, dict]:\n",
    "    return ToolNode(tools).with_fallbacks([RunnableLambda(handle_tool_error)], exception_key=\"error\")"
   ]
  },
  {
   "cell_type": "code",
   "execution_count": 125,
   "id": "24aaacf1",
   "metadata": {},
   "outputs": [],
   "source": [
    "list_tables=create_node_from_tool_with_fallback([list_tables_tool])\n",
    "get_schema=create_node_from_tool_with_fallback([get_schema_tool])\n",
    "query_database=create_node_from_tool_with_fallback([query_to_database])"
   ]
  },
  {
   "cell_type": "code",
   "execution_count": 126,
   "id": "36adba8b",
   "metadata": {},
   "outputs": [],
   "source": [
    "from langchain_core.prompts import ChatPromptTemplate\n",
    "\n",
    "query_check_system = \"\"\"You are a SQL expert. Carefully review the SQL query for common mistakes, including:\n",
    "\n",
    "Issues with NULL handling (e.g., NOT IN with NULLs)\n",
    "Improper use of UNION instead of UNION ALL\n",
    "Incorrect use of BETWEEN for exclusive ranges\n",
    "Data type mismatches or incorrect casting\n",
    "Quoting identifiers improperly\n",
    "Incorrect number of arguments in functions\n",
    "Errors in JOIN conditions\n",
    "\n",
    "If you find any mistakes, rewrite the query to fix them. If it's correct, reproduce it as is.\"\"\"\n",
    "\n",
    "query_check_prompt = ChatPromptTemplate.from_messages([(\"system\", query_check_system), (\"placeholder\", \"{messages}\")])\n",
    "\n",
    "check_generated_query = query_check_prompt | llm_with_tools"
   ]
  },
  {
   "cell_type": "code",
   "execution_count": 127,
   "id": "b91e3834",
   "metadata": {},
   "outputs": [
    {
     "data": {
      "text/plain": [
       "AIMessage(content='', additional_kwargs={'tool_calls': [{'id': 'call_3pbj', 'function': {'arguments': '{\"query\":\"SELECT * FROM Employees LIMIT 5;\"}', 'name': 'query_to_database'}, 'type': 'function'}]}, response_metadata={'token_usage': {'completion_tokens': 73, 'prompt_tokens': 1010, 'total_tokens': 1083, 'completion_time': 0.208571429, 'prompt_time': 0.040323487, 'queue_time': 0.058745032999999995, 'total_time': 0.248894916}, 'model_name': 'llama3-70b-8192', 'system_fingerprint': 'fp_dd4ae1c591', 'finish_reason': 'tool_calls', 'logprobs': None}, id='run--2a4097d2-20d3-49dc-b1ca-614f3b0e366c-0', tool_calls=[{'name': 'query_to_database', 'args': {'query': 'SELECT * FROM Employees LIMIT 5;'}, 'id': 'call_3pbj', 'type': 'tool_call'}], usage_metadata={'input_tokens': 1010, 'output_tokens': 73, 'total_tokens': 1083})"
      ]
     },
     "execution_count": 127,
     "metadata": {},
     "output_type": "execute_result"
    }
   ],
   "source": [
    "check_generated_query.invoke({\"messages\": [(\"user\", \"SELECT * FROM Employees LIMIT 5;\")]})\n"
   ]
  },
  {
   "cell_type": "code",
   "execution_count": 128,
   "id": "b066842c",
   "metadata": {},
   "outputs": [
    {
     "data": {
      "text/plain": [
       "AIMessage(content='', additional_kwargs={'tool_calls': [{'id': 'call_w0rn', 'function': {'arguments': '{\"query\":\"SELECT * FROM Employees LIMIT 5;\"}', 'name': 'query_to_database'}, 'type': 'function'}]}, response_metadata={'token_usage': {'completion_tokens': 219, 'prompt_tokens': 1011, 'total_tokens': 1230, 'completion_time': 0.696886763, 'prompt_time': 0.039772942, 'queue_time': 0.054629417000000006, 'total_time': 0.736659705}, 'model_name': 'llama3-70b-8192', 'system_fingerprint': 'fp_dd4ae1c591', 'finish_reason': 'tool_calls', 'logprobs': None}, id='run--538ffd56-749c-4368-bd92-c0ffc996b0c2-0', tool_calls=[{'name': 'query_to_database', 'args': {'query': 'SELECT * FROM Employees LIMIT 5;'}, 'id': 'call_w0rn', 'type': 'tool_call'}], usage_metadata={'input_tokens': 1011, 'output_tokens': 219, 'total_tokens': 1230})"
      ]
     },
     "execution_count": 128,
     "metadata": {},
     "output_type": "execute_result"
    }
   ],
   "source": [
    "check_generated_query.invoke({\"messages\": [(\"user\", \"SELECT +++ FROM Employees LIMITs 5;\")]})\n"
   ]
  },
  {
   "cell_type": "code",
   "execution_count": 129,
   "id": "483be035",
   "metadata": {},
   "outputs": [],
   "source": [
    "class SubmitFinalAnswer(BaseModel):\n",
    "    \"\"\"Submit the final answer to the user based on the query results.\"\"\"\n",
    "    final_answer: str = Field(..., description=\"The final answer to the user\")\n",
    "    \n",
    "llm_with_final_answer=llm.bind_tools([SubmitFinalAnswer])"
   ]
  },
  {
   "cell_type": "code",
   "execution_count": 130,
   "id": "bea494c0",
   "metadata": {},
   "outputs": [],
   "source": [
    "# Add a node for a model to generate a query based on the question and schema\n",
    "query_gen_system_prompt = \"\"\"You are a SQL expert with a strong attention to detail.Given an input question, output a syntactically correct SQLite query to run, then look at the results of the query and return the answer.\n",
    "\n",
    "1. DO NOT call any tool besides SubmitFinalAnswer to submit the final answer.\n",
    "\n",
    "When generating the query:\n",
    "\n",
    "2. Output the SQL query that answers the input question without a tool call.\n",
    "\n",
    "3. Unless the user specifies a specific number of examples they wish to obtain, always limit your query to at most 5 results.\n",
    "\n",
    "4. You can order the results by a relevant column to return the most interesting examples in the database.\n",
    "\n",
    "5. Never query for all the columns from a specific table, only ask for the relevant columns given the question.\n",
    "\n",
    "6. If you get an error while executing a query, rewrite the query and try again.\n",
    "\n",
    "7. If you get an empty result set, you should try to rewrite the query to get a non-empty result set.\n",
    "\n",
    "8. NEVER make stuff up if you don't have enough information to answer the query... just say you don't have enough information.\n",
    "\n",
    "9. If you have enough information to answer the input question, simply invoke the appropriate tool to submit the final answer to the user.\n",
    "\n",
    "10. DO NOT make any DML statements (INSERT, UPDATE, DELETE, DROP etc.) to the database. Do not return any sql query except answer. \"\"\"\n",
    "\n",
    "query_gen_prompt = ChatPromptTemplate.from_messages([(\"system\", query_gen_system_prompt), (\"placeholder\", \"{messages}\")])\n",
    "\n",
    "query_generator = query_gen_prompt | llm_with_final_answer"
   ]
  },
  {
   "cell_type": "code",
   "execution_count": 131,
   "id": "631042b1",
   "metadata": {},
   "outputs": [
    {
     "data": {
      "text/plain": [
       "AIMessage(content='', additional_kwargs={'tool_calls': [{'id': 'call_rxz3', 'function': {'arguments': '{\"final_answer\":\"The results of the query are: [insert results here].\"}', 'name': 'SubmitFinalAnswer'}, 'type': 'function'}]}, response_metadata={'token_usage': {'completion_tokens': 114, 'prompt_tokens': 1210, 'total_tokens': 1324, 'completion_time': 0.48334355, 'prompt_time': 0.038473015, 'queue_time': 0.061170034, 'total_time': 0.521816565}, 'model_name': 'llama3-70b-8192', 'system_fingerprint': 'fp_dd4ae1c591', 'finish_reason': 'tool_calls', 'logprobs': None}, id='run--a413be51-e49e-471f-9bfb-49edf1ca84bb-0', tool_calls=[{'name': 'SubmitFinalAnswer', 'args': {'final_answer': 'The results of the query are: [insert results here].'}, 'id': 'call_rxz3', 'type': 'tool_call'}], usage_metadata={'input_tokens': 1210, 'output_tokens': 114, 'total_tokens': 1324})"
      ]
     },
     "execution_count": 131,
     "metadata": {},
     "output_type": "execute_result"
    }
   ],
   "source": [
    "query_generator.invoke({\"messages\": [(\"can you fetch the data from employee table?\")]})"
   ]
  },
  {
   "cell_type": "code",
   "execution_count": 132,
   "id": "94ade834",
   "metadata": {},
   "outputs": [],
   "source": [
    "def first_tool_call(state:State)->dict[str,list[AIMessage]]:\n",
    "    print(f\"state from first_tool_call: {state}\")\n",
    "    return{\"messages\": [AIMessage(content=\"\",tool_calls=[{\"name\":\"sql_db_list_tables\",\"args\":{},\"id\":\"tool_abcd123\"}])]}"
   ]
  },
  {
   "cell_type": "code",
   "execution_count": 133,
   "id": "89ef07d4",
   "metadata": {},
   "outputs": [],
   "source": [
    "def check_the_given_query(state:State):\n",
    "    print(f\"state from check the given query: {state}\")\n",
    "    return {\"messages\": [check_generated_query.invoke({\"messages\": [state[\"messages\"][-1]]})]}"
   ]
  },
  {
   "cell_type": "code",
   "execution_count": 134,
   "id": "b0338756",
   "metadata": {},
   "outputs": [],
   "source": [
    "def generation_query(state:State):\n",
    "    message = query_generator.invoke(state)\n",
    "    print(f\"state from generation_query: {state}\")\n",
    "\n",
    "    # Sometimes, the LLM will hallucinate and call the wrong tool. We need to catch this and return an error message.\n",
    "    tool_messages = []\n",
    "    if message.tool_calls:\n",
    "        for tc in message.tool_calls:\n",
    "            if tc[\"name\"] != \"SubmitFinalAnswer\":\n",
    "                tool_messages.append(\n",
    "                    ToolMessage(\n",
    "                        content=f\"Error: The wrong tool was called: {tc['name']}. Please fix your mistakes. Remember to only call SubmitFinalAnswer to submit the final answer. Generated queries should be outputted WITHOUT a tool call.\",\n",
    "                        tool_call_id=tc[\"id\"],\n",
    "                    )\n",
    "                )\n",
    "    else:\n",
    "        tool_messages = []\n",
    "    return {\"messages\": [message] + tool_messages}"
   ]
  },
  {
   "cell_type": "code",
   "execution_count": 135,
   "id": "95da415a",
   "metadata": {},
   "outputs": [],
   "source": [
    "def should_continue(state:State):\n",
    "    print(f\"state from should_continue: {state}\")\n",
    "    messages = state[\"messages\"]\n",
    "    last_message = messages[-1]\n",
    "    print(\"last message\")\n",
    "    print(last_message)\n",
    "    if getattr(last_message, \"tool_calls\", None):\n",
    "        print(\"sooo\")\n",
    "        return END\n",
    "    elif last_message.content.startswith(\"Error:\"):\n",
    "        print(\"dooo\")\n",
    "        return \"query_gen\"\n",
    "    else:\n",
    "        print(\"oooo\")\n",
    "        return \"correct_query\""
   ]
  },
  {
   "cell_type": "code",
   "execution_count": 136,
   "id": "1be2e075",
   "metadata": {},
   "outputs": [],
   "source": [
    "\n",
    "def llm_get_schema(state:State):\n",
    "    print(\"state from llm_get_schema\", state)\n",
    "    response = llm_to_get_schema.invoke(state[\"messages\"])\n",
    "    return {\"messages\": [response]}"
   ]
  },
  {
   "cell_type": "code",
   "execution_count": 137,
   "id": "7e3a27b1",
   "metadata": {},
   "outputs": [
    {
     "data": {
      "text/plain": [
       "<langgraph.graph.state.StateGraph at 0x14acc1da9c0>"
      ]
     },
     "execution_count": 137,
     "metadata": {},
     "output_type": "execute_result"
    }
   ],
   "source": [
    "\n",
    "workflow = StateGraph(State)\n",
    "workflow.add_node(\"first_tool_call\",first_tool_call)\n",
    "workflow.add_node(\"list_tables_tool\", list_tables)\n",
    "workflow.add_node(\"get_schema_tool\", get_schema)\n",
    "workflow.add_node(\"model_get_schema\", llm_get_schema)\n",
    "workflow.add_node(\"query_gen\", generation_query)\n",
    "workflow.add_node(\"correct_query\", check_the_given_query)\n",
    "workflow.add_node(\"execute_query\", query_database)"
   ]
  },
  {
   "cell_type": "code",
   "execution_count": 138,
   "id": "a8c3463a",
   "metadata": {},
   "outputs": [
    {
     "data": {
      "text/plain": [
       "<langgraph.graph.state.StateGraph at 0x14acc1da9c0>"
      ]
     },
     "execution_count": 138,
     "metadata": {},
     "output_type": "execute_result"
    }
   ],
   "source": [
    "workflow.add_edge(START, \"first_tool_call\")\n",
    "workflow.add_edge(\"first_tool_call\", \"list_tables_tool\")\n",
    "workflow.add_edge(\"list_tables_tool\", \"model_get_schema\")\n",
    "workflow.add_edge(\"model_get_schema\", \"get_schema_tool\")\n",
    "workflow.add_edge(\"get_schema_tool\", \"query_gen\")\n",
    "workflow.add_conditional_edges(\"query_gen\",should_continue,\n",
    "                            {END:END,\n",
    "                            \"correct_query\":\"correct_query\"})\n",
    "workflow.add_edge(\"correct_query\", \"execute_query\")\n",
    "workflow.add_edge(\"execute_query\", \"query_gen\")"
   ]
  },
  {
   "cell_type": "code",
   "execution_count": 139,
   "id": "53636ec5",
   "metadata": {},
   "outputs": [],
   "source": [
    "\n",
    "app=workflow.compile()"
   ]
  },
  {
   "cell_type": "code",
   "execution_count": 140,
   "id": "3f23a176",
   "metadata": {},
   "outputs": [
    {
     "data": {
      "image/png": "[encoded data removed]",
      "text/plain": [
       "<IPython.core.display.Image object>"
      ]
     },
     "metadata": {},
     "output_type": "display_data"
    }
   ],
   "source": [
    "\n",
    "from IPython.display import Image, display\n",
    "from langchain_core.runnables.graph import MermaidDrawMethod\n",
    "\n",
    "display(\n",
    "    Image(\n",
    "        app.get_graph().draw_mermaid_png(\n",
    "            draw_method=MermaidDrawMethod.API,\n",
    "        )\n",
    "    )\n",
    ")"
   ]
  },
  {
   "cell_type": "code",
   "execution_count": 165,
   "id": "594f2b5d",
   "metadata": {},
   "outputs": [],
   "source": [
    "\n",
    "query={\"messages\": [(\"user\", \"how many order are there which is more than 1000 rupees in order table?\")]}"
   ]
  },
  {
   "cell_type": "code",
   "execution_count": 166,
   "id": "c15f8ba0",
   "metadata": {},
   "outputs": [
    {
     "name": "stdout",
     "output_type": "stream",
     "text": [
      "state from first_tool_call: {'messages': [HumanMessage(content='how many order are there which is more than 1000 rupees in order table?', additional_kwargs={}, response_metadata={}, id='29b2efc9-b71e-42c4-8540-f05aedf682fa')]}\n",
      "state from llm_get_schema {'messages': [HumanMessage(content='how many order are there which is more than 1000 rupees in order table?', additional_kwargs={}, response_metadata={}, id='29b2efc9-b71e-42c4-8540-f05aedf682fa'), AIMessage(content='', additional_kwargs={}, response_metadata={}, id='741fb298-db54-48f2-8226-26c33d633962', tool_calls=[{'name': 'sql_db_list_tables', 'args': {}, 'id': 'tool_abcd123', 'type': 'tool_call'}]), ToolMessage(content='customers, employees, orders', name='sql_db_list_tables', id='eb2479bd-52da-4a31-befc-4a17cd7e544d', tool_call_id='tool_abcd123')]}\n",
      "state from generation_query: {'messages': [HumanMessage(content='how many order are there which is more than 1000 rupees in order table?', additional_kwargs={}, response_metadata={}, id='29b2efc9-b71e-42c4-8540-f05aedf682fa'), AIMessage(content='', additional_kwargs={}, response_metadata={}, id='741fb298-db54-48f2-8226-26c33d633962', tool_calls=[{'name': 'sql_db_list_tables', 'args': {}, 'id': 'tool_abcd123', 'type': 'tool_call'}]), ToolMessage(content='customers, employees, orders', name='sql_db_list_tables', id='eb2479bd-52da-4a31-befc-4a17cd7e544d', tool_call_id='tool_abcd123'), AIMessage(content='', additional_kwargs={'tool_calls': [{'id': 'call_tv65', 'function': {'arguments': '{\"table_names\":\"orders\"}', 'name': 'sql_db_schema'}, 'type': 'function'}]}, response_metadata={'token_usage': {'completion_tokens': 37, 'prompt_tokens': 1063, 'total_tokens': 1100, 'completion_time': 0.176467588, 'prompt_time': 0.034046083, 'queue_time': 0.059576207, 'total_time': 0.210513671}, 'model_name': 'llama3-70b-8192', 'system_fingerprint': 'fp_dd4ae1c591', 'finish_reason': 'tool_calls', 'logprobs': None}, id='run--c2d02ee5-7de2-442e-83ef-b9c616e45d91-0', tool_calls=[{'name': 'sql_db_schema', 'args': {'table_names': 'orders'}, 'id': 'call_tv65', 'type': 'tool_call'}], usage_metadata={'input_tokens': 1063, 'output_tokens': 37, 'total_tokens': 1100}), ToolMessage(content='\\nCREATE TABLE orders (\\n\\tid INTEGER, \\n\\tcustomer_id INTEGER NOT NULL, \\n\\torder_date TEXT NOT NULL, \\n\\ttotal_amount REAL NOT NULL, \\n\\tPRIMARY KEY (id), \\n\\tFOREIGN KEY(customer_id) REFERENCES customers (id)\\n)\\n\\n/*\\n3 rows from orders table:\\nid\\tcustomer_id\\torder_date\\ttotal_amount\\n1\\t1\\t2023-05-15\\t299.99\\n2\\t2\\t2023-05-16\\t149.5\\n3\\t3\\t2023-05-17\\t499.99\\n*/', name='sql_db_schema', id='32847eb8-2316-4b09-8038-7356906836ab', tool_call_id='call_tv65')]}\n",
      "state from should_continue: {'messages': [HumanMessage(content='how many order are there which is more than 1000 rupees in order table?', additional_kwargs={}, response_metadata={}, id='29b2efc9-b71e-42c4-8540-f05aedf682fa'), AIMessage(content='', additional_kwargs={}, response_metadata={}, id='741fb298-db54-48f2-8226-26c33d633962', tool_calls=[{'name': 'sql_db_list_tables', 'args': {}, 'id': 'tool_abcd123', 'type': 'tool_call'}]), ToolMessage(content='customers, employees, orders', name='sql_db_list_tables', id='eb2479bd-52da-4a31-befc-4a17cd7e544d', tool_call_id='tool_abcd123'), AIMessage(content='', additional_kwargs={'tool_calls': [{'id': 'call_tv65', 'function': {'arguments': '{\"table_names\":\"orders\"}', 'name': 'sql_db_schema'}, 'type': 'function'}]}, response_metadata={'token_usage': {'completion_tokens': 37, 'prompt_tokens': 1063, 'total_tokens': 1100, 'completion_time': 0.176467588, 'prompt_time': 0.034046083, 'queue_time': 0.059576207, 'total_time': 0.210513671}, 'model_name': 'llama3-70b-8192', 'system_fingerprint': 'fp_dd4ae1c591', 'finish_reason': 'tool_calls', 'logprobs': None}, id='run--c2d02ee5-7de2-442e-83ef-b9c616e45d91-0', tool_calls=[{'name': 'sql_db_schema', 'args': {'table_names': 'orders'}, 'id': 'call_tv65', 'type': 'tool_call'}], usage_metadata={'input_tokens': 1063, 'output_tokens': 37, 'total_tokens': 1100}), ToolMessage(content='\\nCREATE TABLE orders (\\n\\tid INTEGER, \\n\\tcustomer_id INTEGER NOT NULL, \\n\\torder_date TEXT NOT NULL, \\n\\ttotal_amount REAL NOT NULL, \\n\\tPRIMARY KEY (id), \\n\\tFOREIGN KEY(customer_id) REFERENCES customers (id)\\n)\\n\\n/*\\n3 rows from orders table:\\nid\\tcustomer_id\\torder_date\\ttotal_amount\\n1\\t1\\t2023-05-15\\t299.99\\n2\\t2\\t2023-05-16\\t149.5\\n3\\t3\\t2023-05-17\\t499.99\\n*/', name='sql_db_schema', id='32847eb8-2316-4b09-8038-7356906836ab', tool_call_id='call_tv65'), AIMessage(content='', additional_kwargs={'tool_calls': [{'id': 'call_r37f', 'function': {'arguments': '{\"final_answer\":\"\"}', 'name': 'SubmitFinalAnswer'}, 'type': 'function'}]}, response_metadata={'token_usage': {'completion_tokens': 83, 'prompt_tokens': 1461, 'total_tokens': 1544, 'completion_time': 0.315686593, 'prompt_time': 0.056136046, 'queue_time': 0.056060173, 'total_time': 0.371822639}, 'model_name': 'llama3-70b-8192', 'system_fingerprint': 'fp_dd4ae1c591', 'finish_reason': 'tool_calls', 'logprobs': None}, id='run--c91bd94e-93f6-4d75-a1fd-5582d46c06b5-0', tool_calls=[{'name': 'SubmitFinalAnswer', 'args': {'final_answer': ''}, 'id': 'call_r37f', 'type': 'tool_call'}], usage_metadata={'input_tokens': 1461, 'output_tokens': 83, 'total_tokens': 1544})]}\n",
      "last message\n",
      "content='' additional_kwargs={'tool_calls': [{'id': 'call_r37f', 'function': {'arguments': '{\"final_answer\":\"\"}', 'name': 'SubmitFinalAnswer'}, 'type': 'function'}]} response_metadata={'token_usage': {'completion_tokens': 83, 'prompt_tokens': 1461, 'total_tokens': 1544, 'completion_time': 0.315686593, 'prompt_time': 0.056136046, 'queue_time': 0.056060173, 'total_time': 0.371822639}, 'model_name': 'llama3-70b-8192', 'system_fingerprint': 'fp_dd4ae1c591', 'finish_reason': 'tool_calls', 'logprobs': None} id='run--c91bd94e-93f6-4d75-a1fd-5582d46c06b5-0' tool_calls=[{'name': 'SubmitFinalAnswer', 'args': {'final_answer': ''}, 'id': 'call_r37f', 'type': 'tool_call'}] usage_metadata={'input_tokens': 1461, 'output_tokens': 83, 'total_tokens': 1544}\n",
      "sooo\n"
     ]
    }
   ],
   "source": [
    "\n",
    "response=app.invoke(query)"
   ]
  },
  {
   "cell_type": "code",
   "execution_count": 167,
   "id": "b237a4bf",
   "metadata": {},
   "outputs": [
    {
     "data": {
      "text/plain": [
       "''"
      ]
     },
     "execution_count": 167,
     "metadata": {},
     "output_type": "execute_result"
    }
   ],
   "source": [
    "\n",
    "response[\"messages\"][-1].tool_calls[0][\"args\"][\"final_answer\"]"
   ]
  },
  {
   "cell_type": "code",
   "execution_count": 144,
   "id": "6180a856",
   "metadata": {},
   "outputs": [
    {
     "name": "stdout",
     "output_type": "stream",
     "text": [
      "\n",
      "--- Table: customers ---\n",
      "Schema:\n",
      "[(0, 'id', 'INTEGER', 0, None, 1), (1, 'name', 'TEXT', 1, None, 0), (2, 'email', 'TEXT', 1, None, 0), (3, 'phone', 'TEXT', 1, None, 0), (4, 'address', 'TEXT', 1, None, 0)]\n",
      "\n",
      "Data:\n",
      "[(1, 'Charlie Black', 'charlie@example.com', '555-1234', '123 Main St'), (2, 'Diana White', 'diana@example.com', '555-5678', '456 Oak Ave'), (3, 'Edward Green', 'edward@example.com', '555-9012', '789 Pine Rd'), (4, 'Fiona Gray', 'fiona@example.com', '555-3456', '101 Elm Blvd'), (5, 'Charlie Black', 'charlie@example.com', '555-1234', '123 Main St'), (6, 'Diana White', 'diana@example.com', '555-5678', '456 Oak Ave'), (7, 'Edward Green', 'edward@example.com', '555-9012', '789 Pine Rd'), (8, 'Fiona Gray', 'fiona@example.com', '555-3456', '101 Elm Blvd')]\n",
      "\n",
      "--------------------------------------------------\n",
      "\n",
      "--- Table: employees ---\n",
      "Schema:\n",
      "[(0, 'id', 'INTEGER', 0, None, 1), (1, 'name', 'TEXT', 1, None, 0), (2, 'age', 'INTEGER', 1, None, 0), (3, 'department', 'TEXT', 1, None, 0), (4, 'salary', 'REAL', 1, None, 0)]\n",
      "\n",
      "Data:\n",
      "[(1, 'John Doe', 30, 'HR', 50000.0), (2, 'Jane Smith', 28, 'IT', 60000.0), (3, 'Alice Johnson', 35, 'Finance', 70000.0), (4, 'Bob Brown', 40, 'Marketing', 55000.0), (5, 'John Doe', 30, 'HR', 50000.0), (6, 'Jane Smith', 28, 'IT', 60000.0), (7, 'Alice Johnson', 35, 'Finance', 70000.0), (8, 'Bob Brown', 40, 'Marketing', 55000.0)]\n",
      "\n",
      "--------------------------------------------------\n",
      "\n",
      "--- Table: orders ---\n",
      "Schema:\n",
      "[(0, 'id', 'INTEGER', 0, None, 1), (1, 'customer_id', 'INTEGER', 1, None, 0), (2, 'order_date', 'TEXT', 1, None, 0), (3, 'total_amount', 'REAL', 1, None, 0)]\n",
      "\n",
      "Data:\n",
      "[(1, 1, '2023-05-15', 299.99), (2, 2, '2023-05-16', 149.5), (3, 3, '2023-05-17', 499.99), (4, 4, '2023-05-18', 75.25), (5, 1, '2023-05-15', 299.99), (6, 2, '2023-05-16', 149.5), (7, 3, '2023-05-17', 499.99), (8, 4, '2023-05-18', 75.25)]\n",
      "\n",
      "--------------------------------------------------\n"
     ]
    }
   ],
   "source": [
    "def print_all_tables_data():\n",
    "    tables = db.get_usable_table_names()\n",
    "    \n",
    "    for table in tables:\n",
    "        print(f\"\\n--- Table: {table} ---\")\n",
    "        \n",
    "        # Get schema information\n",
    "        schema_result = db.run_no_throw(f\"PRAGMA table_info({table});\")\n",
    "        print(f\"Schema:\\n{schema_result}\\n\")\n",
    "        \n",
    "        # Get all rows from the table\n",
    "        rows_result = db.run_no_throw(f\"SELECT * FROM {table} LIMIT 10;\")\n",
    "        print(f\"Data:\\n{rows_result}\\n\")\n",
    "        \n",
    "        print(\"-\" * 50)\n",
    "\n",
    "# Execute the function\n",
    "print_all_tables_data()"
   ]
  },
  {
   "cell_type": "code",
   "execution_count": null,
   "id": "8b46f852",
   "metadata": {},
   "outputs": [],
   "source": []
  }
 ],
 "metadata": {
  "kernelspec": {
   "display_name": "venv",
   "language": "python",
   "name": "python3"
  },
  "language_info": {
   "codemirror_mode": {
    "name": "ipython",
    "version": 3
   },
   "file_extension": ".py",
   "mimetype": "text/x-python",
   "name": "python",
   "nbconvert_exporter": "python",
   "pygments_lexer": "ipython3",
   "version": "3.12.7"
  }
 },
 "nbformat": 4,
 "nbformat_minor": 5
}
